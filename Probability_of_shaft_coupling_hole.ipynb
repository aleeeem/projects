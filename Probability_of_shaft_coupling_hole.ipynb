{
  "nbformat": 4,
  "nbformat_minor": 0,
  "metadata": {
    "colab": {
      "name": "Probability of shaft coupling hole.ipynb",
      "provenance": [],
      "authorship_tag": "ABX9TyMlkaZ+i1gyyyv2x1OBamMu"
    },
    "kernelspec": {
      "name": "python3",
      "display_name": "Python 3"
    },
    "language_info": {
      "name": "python"
    }
  },
  "cells": [
    {
      "cell_type": "markdown",
      "source": [
        "# Probability of shaft coupling hole\n",
        "\n",
        "We will assume that the extenal diameter of the shaft (in Italian: albero) is Gaussian distributed with expeted value $\\mu^2_Y$ and variance $\\sigma^2_Y$ and the internal diameter of the hole (in Italian: foro) has expetation $\\mu_X$ and variance $\\sigma^2_Y$. \n",
        "\n",
        "The probabilty of shaft coupling hole is\n",
        "$$p = \\int_{-\\infty}^{+\\infty}\\int_{0}^{x} f_{X,Y}(x,y) \\ dy \\ dx \\tag{1}$$\n",
        "where\n",
        "$$ f_{X,Y}(x,y) = f_{\\mathcal{N}, {\\mu_X, \\mu_Y, \\sigma^2_X, \\sigma^2_Y, \\rho = 0}}(x,y) = \\dfrac{1}{2\\pi \\sigma_X \\sigma_Y}\\exp \\left(-\\dfrac12 \\left( \\left( \\dfrac{x - \\mu_X}{\\sigma_X} \\right)^2 +  \\left( \\dfrac{y - \\mu_Y}{\\sigma_Y} \\right)^2 \\right) \\right)$$\n",
        "\n",
        "The integral $(1)$ is not integrable in the sense of Reimann. Due to the practical applications of this calculation, we have implemented a numerical application with Python."
      ],
      "metadata": {
        "id": "4_nB0FPBaRHd"
      }
    },
    {
      "cell_type": "code",
      "source": [
        "# input values\n",
        "mu_x = float(input(\"mu_X: \"))\n",
        "mu_y = float(input(\"mu_Y: \"))\n",
        "sigma_x = float(input(\"sigma_X: \"))\n",
        "sigma_y = float(input(\"sigma_Y: \"))\n",
        "\n",
        "from math import cos, exp, pi, erf, sqrt\n",
        "from scipy.integrate import quad\n",
        "\n",
        "# boundaries\n",
        "a = mu_x - sigma_x*3.39\n",
        "b = mu_x + sigma_x*3.39\n",
        "\n",
        "# function to integrate\n",
        "def f(x):\n",
        "    return (1/sqrt(2*pi))*exp(-0.5*((x-mu_x)/sigma_x)**2)*0.5*(1+erf((x-mu_y)/(sigma_y*sqrt(2))))\n",
        "\n",
        "# call quad\n",
        "res, err = quad(f, a, b)\n",
        "\n",
        "print(\"The numerical result is {:f} (+-{:g})\"\n",
        "    .format(res, err))\n"
      ],
      "metadata": {
        "colab": {
          "base_uri": "https://localhost:8080/"
        },
        "id": "Cp16nw-lcD30",
        "outputId": "5d88cbe0-e7cf-49e4-ad28-e3e594e5614a"
      },
      "execution_count": null,
      "outputs": [
        {
          "output_type": "stream",
          "name": "stdout",
          "text": [
            "mu_X: 1\n",
            "mu_Y: 1.1\n",
            "sigma_X: 1\n",
            "sigma_Y: 0.5\n",
            "The numerical result is 0.464016 (+-3.79531e-14)\n"
          ]
        }
      ]
    }
  ]
}